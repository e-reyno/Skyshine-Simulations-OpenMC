{
 "cells": [
  {
   "cell_type": "code",
   "execution_count": 91,
   "id": "82314a05-1d26-4425-88a8-05859d03eb3c",
   "metadata": {},
   "outputs": [],
   "source": [
    "import openmc\n",
    "import numpy as np\n",
    "import neutronics_material_maker as nmm\n",
    "import matplotlib.pyplot as plt\n",
    "import openmc_source_plotter\n",
    "import plotly.graph_objects as go\n",
    "from math import cos, pi"
   ]
  },
  {
   "cell_type": "code",
   "execution_count": 92,
   "id": "4bcadf73-4fdd-4b08-9451-4cc9f8992044",
   "metadata": {},
   "outputs": [
    {
     "data": {
      "application/vnd.plotly.v1+json": {
       "config": {
        "plotlyServerURL": "https://plot.ly"
       },
       "data": [
        {
         "mode": "lines",
         "name": "neutron",
         "type": "scatter",
         "x": [
          0.001,
          0.01,
          0.024999999999999998,
          0.09999999999999999,
          0.19999999999999998,
          0.5,
          1,
          2,
          5,
          10,
          20,
          50,
          100,
          200,
          500,
          1000,
          2000,
          5000,
          10000,
          20000,
          30000,
          50000,
          70000,
          100000,
          150000,
          200000,
          300000,
          500000,
          700000,
          900000,
          1000000,
          1200000,
          1500000,
          2000000,
          3000000,
          4000000,
          5000000,
          6000000,
          7000000,
          8000000,
          9000000,
          10000000,
          12000000,
          14000000,
          15000000,
          16000000,
          18000000,
          20000000,
          21000000,
          30000000,
          50000000,
          75000000,
          100000000,
          130000000,
          150000000,
          180000000,
          200000000,
          300000000,
          400000000,
          500000000,
          600000000,
          700000000,
          800000000,
          900000000,
          1000000000,
          2000000000,
          5000000000,
          10000000000
         ],
         "y": [
          3.09,
          3.55,
          4,
          5.2,
          5.87,
          6.59,
          7.03,
          7.39,
          7.71,
          7.82,
          7.84,
          7.82,
          7.79,
          7.73,
          7.54,
          7.54,
          7.61,
          7.97,
          9.11,
          12.2,
          15.7,
          23,
          30.6,
          41.9,
          60.6,
          78.8,
          114,
          177,
          232,
          279,
          301,
          330,
          365,
          407,
          458,
          483,
          494,
          498,
          499,
          499,
          500,
          500,
          499,
          495,
          493,
          490,
          484,
          477,
          474,
          453,
          433,
          420,
          402,
          382,
          373,
          363,
          359,
          363,
          389,
          422,
          457,
          486,
          508,
          524,
          537,
          612,
          716,
          933
         ]
        }
       ],
       "layout": {
        "autosize": true,
        "template": {
         "data": {
          "bar": [
           {
            "error_x": {
             "color": "#2a3f5f"
            },
            "error_y": {
             "color": "#2a3f5f"
            },
            "marker": {
             "line": {
              "color": "#E5ECF6",
              "width": 0.5
             },
             "pattern": {
              "fillmode": "overlay",
              "size": 10,
              "solidity": 0.2
             }
            },
            "type": "bar"
           }
          ],
          "barpolar": [
           {
            "marker": {
             "line": {
              "color": "#E5ECF6",
              "width": 0.5
             },
             "pattern": {
              "fillmode": "overlay",
              "size": 10,
              "solidity": 0.2
             }
            },
            "type": "barpolar"
           }
          ],
          "carpet": [
           {
            "aaxis": {
             "endlinecolor": "#2a3f5f",
             "gridcolor": "white",
             "linecolor": "white",
             "minorgridcolor": "white",
             "startlinecolor": "#2a3f5f"
            },
            "baxis": {
             "endlinecolor": "#2a3f5f",
             "gridcolor": "white",
             "linecolor": "white",
             "minorgridcolor": "white",
             "startlinecolor": "#2a3f5f"
            },
            "type": "carpet"
           }
          ],
          "choropleth": [
           {
            "colorbar": {
             "outlinewidth": 0,
             "ticks": ""
            },
            "type": "choropleth"
           }
          ],
          "contour": [
           {
            "colorbar": {
             "outlinewidth": 0,
             "ticks": ""
            },
            "colorscale": [
             [
              0,
              "#0d0887"
             ],
             [
              0.1111111111111111,
              "#46039f"
             ],
             [
              0.2222222222222222,
              "#7201a8"
             ],
             [
              0.3333333333333333,
              "#9c179e"
             ],
             [
              0.4444444444444444,
              "#bd3786"
             ],
             [
              0.5555555555555556,
              "#d8576b"
             ],
             [
              0.6666666666666666,
              "#ed7953"
             ],
             [
              0.7777777777777778,
              "#fb9f3a"
             ],
             [
              0.8888888888888888,
              "#fdca26"
             ],
             [
              1,
              "#f0f921"
             ]
            ],
            "type": "contour"
           }
          ],
          "contourcarpet": [
           {
            "colorbar": {
             "outlinewidth": 0,
             "ticks": ""
            },
            "type": "contourcarpet"
           }
          ],
          "heatmap": [
           {
            "colorbar": {
             "outlinewidth": 0,
             "ticks": ""
            },
            "colorscale": [
             [
              0,
              "#0d0887"
             ],
             [
              0.1111111111111111,
              "#46039f"
             ],
             [
              0.2222222222222222,
              "#7201a8"
             ],
             [
              0.3333333333333333,
              "#9c179e"
             ],
             [
              0.4444444444444444,
              "#bd3786"
             ],
             [
              0.5555555555555556,
              "#d8576b"
             ],
             [
              0.6666666666666666,
              "#ed7953"
             ],
             [
              0.7777777777777778,
              "#fb9f3a"
             ],
             [
              0.8888888888888888,
              "#fdca26"
             ],
             [
              1,
              "#f0f921"
             ]
            ],
            "type": "heatmap"
           }
          ],
          "heatmapgl": [
           {
            "colorbar": {
             "outlinewidth": 0,
             "ticks": ""
            },
            "colorscale": [
             [
              0,
              "#0d0887"
             ],
             [
              0.1111111111111111,
              "#46039f"
             ],
             [
              0.2222222222222222,
              "#7201a8"
             ],
             [
              0.3333333333333333,
              "#9c179e"
             ],
             [
              0.4444444444444444,
              "#bd3786"
             ],
             [
              0.5555555555555556,
              "#d8576b"
             ],
             [
              0.6666666666666666,
              "#ed7953"
             ],
             [
              0.7777777777777778,
              "#fb9f3a"
             ],
             [
              0.8888888888888888,
              "#fdca26"
             ],
             [
              1,
              "#f0f921"
             ]
            ],
            "type": "heatmapgl"
           }
          ],
          "histogram": [
           {
            "marker": {
             "pattern": {
              "fillmode": "overlay",
              "size": 10,
              "solidity": 0.2
             }
            },
            "type": "histogram"
           }
          ],
          "histogram2d": [
           {
            "colorbar": {
             "outlinewidth": 0,
             "ticks": ""
            },
            "colorscale": [
             [
              0,
              "#0d0887"
             ],
             [
              0.1111111111111111,
              "#46039f"
             ],
             [
              0.2222222222222222,
              "#7201a8"
             ],
             [
              0.3333333333333333,
              "#9c179e"
             ],
             [
              0.4444444444444444,
              "#bd3786"
             ],
             [
              0.5555555555555556,
              "#d8576b"
             ],
             [
              0.6666666666666666,
              "#ed7953"
             ],
             [
              0.7777777777777778,
              "#fb9f3a"
             ],
             [
              0.8888888888888888,
              "#fdca26"
             ],
             [
              1,
              "#f0f921"
             ]
            ],
            "type": "histogram2d"
           }
          ],
          "histogram2dcontour": [
           {
            "colorbar": {
             "outlinewidth": 0,
             "ticks": ""
            },
            "colorscale": [
             [
              0,
              "#0d0887"
             ],
             [
              0.1111111111111111,
              "#46039f"
             ],
             [
              0.2222222222222222,
              "#7201a8"
             ],
             [
              0.3333333333333333,
              "#9c179e"
             ],
             [
              0.4444444444444444,
              "#bd3786"
             ],
             [
              0.5555555555555556,
              "#d8576b"
             ],
             [
              0.6666666666666666,
              "#ed7953"
             ],
             [
              0.7777777777777778,
              "#fb9f3a"
             ],
             [
              0.8888888888888888,
              "#fdca26"
             ],
             [
              1,
              "#f0f921"
             ]
            ],
            "type": "histogram2dcontour"
           }
          ],
          "mesh3d": [
           {
            "colorbar": {
             "outlinewidth": 0,
             "ticks": ""
            },
            "type": "mesh3d"
           }
          ],
          "parcoords": [
           {
            "line": {
             "colorbar": {
              "outlinewidth": 0,
              "ticks": ""
             }
            },
            "type": "parcoords"
           }
          ],
          "pie": [
           {
            "automargin": true,
            "type": "pie"
           }
          ],
          "scatter": [
           {
            "fillpattern": {
             "fillmode": "overlay",
             "size": 10,
             "solidity": 0.2
            },
            "type": "scatter"
           }
          ],
          "scatter3d": [
           {
            "line": {
             "colorbar": {
              "outlinewidth": 0,
              "ticks": ""
             }
            },
            "marker": {
             "colorbar": {
              "outlinewidth": 0,
              "ticks": ""
             }
            },
            "type": "scatter3d"
           }
          ],
          "scattercarpet": [
           {
            "marker": {
             "colorbar": {
              "outlinewidth": 0,
              "ticks": ""
             }
            },
            "type": "scattercarpet"
           }
          ],
          "scattergeo": [
           {
            "marker": {
             "colorbar": {
              "outlinewidth": 0,
              "ticks": ""
             }
            },
            "type": "scattergeo"
           }
          ],
          "scattergl": [
           {
            "marker": {
             "colorbar": {
              "outlinewidth": 0,
              "ticks": ""
             }
            },
            "type": "scattergl"
           }
          ],
          "scattermapbox": [
           {
            "marker": {
             "colorbar": {
              "outlinewidth": 0,
              "ticks": ""
             }
            },
            "type": "scattermapbox"
           }
          ],
          "scatterpolar": [
           {
            "marker": {
             "colorbar": {
              "outlinewidth": 0,
              "ticks": ""
             }
            },
            "type": "scatterpolar"
           }
          ],
          "scatterpolargl": [
           {
            "marker": {
             "colorbar": {
              "outlinewidth": 0,
              "ticks": ""
             }
            },
            "type": "scatterpolargl"
           }
          ],
          "scatterternary": [
           {
            "marker": {
             "colorbar": {
              "outlinewidth": 0,
              "ticks": ""
             }
            },
            "type": "scatterternary"
           }
          ],
          "surface": [
           {
            "colorbar": {
             "outlinewidth": 0,
             "ticks": ""
            },
            "colorscale": [
             [
              0,
              "#0d0887"
             ],
             [
              0.1111111111111111,
              "#46039f"
             ],
             [
              0.2222222222222222,
              "#7201a8"
             ],
             [
              0.3333333333333333,
              "#9c179e"
             ],
             [
              0.4444444444444444,
              "#bd3786"
             ],
             [
              0.5555555555555556,
              "#d8576b"
             ],
             [
              0.6666666666666666,
              "#ed7953"
             ],
             [
              0.7777777777777778,
              "#fb9f3a"
             ],
             [
              0.8888888888888888,
              "#fdca26"
             ],
             [
              1,
              "#f0f921"
             ]
            ],
            "type": "surface"
           }
          ],
          "table": [
           {
            "cells": {
             "fill": {
              "color": "#EBF0F8"
             },
             "line": {
              "color": "white"
             }
            },
            "header": {
             "fill": {
              "color": "#C8D4E3"
             },
             "line": {
              "color": "white"
             }
            },
            "type": "table"
           }
          ]
         },
         "layout": {
          "annotationdefaults": {
           "arrowcolor": "#2a3f5f",
           "arrowhead": 0,
           "arrowwidth": 1
          },
          "autotypenumbers": "strict",
          "coloraxis": {
           "colorbar": {
            "outlinewidth": 0,
            "ticks": ""
           }
          },
          "colorscale": {
           "diverging": [
            [
             0,
             "#8e0152"
            ],
            [
             0.1,
             "#c51b7d"
            ],
            [
             0.2,
             "#de77ae"
            ],
            [
             0.3,
             "#f1b6da"
            ],
            [
             0.4,
             "#fde0ef"
            ],
            [
             0.5,
             "#f7f7f7"
            ],
            [
             0.6,
             "#e6f5d0"
            ],
            [
             0.7,
             "#b8e186"
            ],
            [
             0.8,
             "#7fbc41"
            ],
            [
             0.9,
             "#4d9221"
            ],
            [
             1,
             "#276419"
            ]
           ],
           "sequential": [
            [
             0,
             "#0d0887"
            ],
            [
             0.1111111111111111,
             "#46039f"
            ],
            [
             0.2222222222222222,
             "#7201a8"
            ],
            [
             0.3333333333333333,
             "#9c179e"
            ],
            [
             0.4444444444444444,
             "#bd3786"
            ],
            [
             0.5555555555555556,
             "#d8576b"
            ],
            [
             0.6666666666666666,
             "#ed7953"
            ],
            [
             0.7777777777777778,
             "#fb9f3a"
            ],
            [
             0.8888888888888888,
             "#fdca26"
            ],
            [
             1,
             "#f0f921"
            ]
           ],
           "sequentialminus": [
            [
             0,
             "#0d0887"
            ],
            [
             0.1111111111111111,
             "#46039f"
            ],
            [
             0.2222222222222222,
             "#7201a8"
            ],
            [
             0.3333333333333333,
             "#9c179e"
            ],
            [
             0.4444444444444444,
             "#bd3786"
            ],
            [
             0.5555555555555556,
             "#d8576b"
            ],
            [
             0.6666666666666666,
             "#ed7953"
            ],
            [
             0.7777777777777778,
             "#fb9f3a"
            ],
            [
             0.8888888888888888,
             "#fdca26"
            ],
            [
             1,
             "#f0f921"
            ]
           ]
          },
          "colorway": [
           "#636efa",
           "#EF553B",
           "#00cc96",
           "#ab63fa",
           "#FFA15A",
           "#19d3f3",
           "#FF6692",
           "#B6E880",
           "#FF97FF",
           "#FECB52"
          ],
          "font": {
           "color": "#2a3f5f"
          },
          "geo": {
           "bgcolor": "white",
           "lakecolor": "white",
           "landcolor": "#E5ECF6",
           "showlakes": true,
           "showland": true,
           "subunitcolor": "white"
          },
          "hoverlabel": {
           "align": "left"
          },
          "hovermode": "closest",
          "mapbox": {
           "style": "light"
          },
          "paper_bgcolor": "white",
          "plot_bgcolor": "#E5ECF6",
          "polar": {
           "angularaxis": {
            "gridcolor": "white",
            "linecolor": "white",
            "ticks": ""
           },
           "bgcolor": "#E5ECF6",
           "radialaxis": {
            "gridcolor": "white",
            "linecolor": "white",
            "ticks": ""
           }
          },
          "scene": {
           "xaxis": {
            "backgroundcolor": "#E5ECF6",
            "gridcolor": "white",
            "gridwidth": 2,
            "linecolor": "white",
            "showbackground": true,
            "ticks": "",
            "zerolinecolor": "white"
           },
           "yaxis": {
            "backgroundcolor": "#E5ECF6",
            "gridcolor": "white",
            "gridwidth": 2,
            "linecolor": "white",
            "showbackground": true,
            "ticks": "",
            "zerolinecolor": "white"
           },
           "zaxis": {
            "backgroundcolor": "#E5ECF6",
            "gridcolor": "white",
            "gridwidth": 2,
            "linecolor": "white",
            "showbackground": true,
            "ticks": "",
            "zerolinecolor": "white"
           }
          },
          "shapedefaults": {
           "line": {
            "color": "#2a3f5f"
           }
          },
          "ternary": {
           "aaxis": {
            "gridcolor": "white",
            "linecolor": "white",
            "ticks": ""
           },
           "baxis": {
            "gridcolor": "white",
            "linecolor": "white",
            "ticks": ""
           },
           "bgcolor": "#E5ECF6",
           "caxis": {
            "gridcolor": "white",
            "linecolor": "white",
            "ticks": ""
           }
          },
          "title": {
           "x": 0.05
          },
          "xaxis": {
           "automargin": true,
           "gridcolor": "white",
           "linecolor": "white",
           "ticks": "",
           "title": {
            "standoff": 15
           },
           "zerolinecolor": "white",
           "zerolinewidth": 2
          },
          "yaxis": {
           "automargin": true,
           "gridcolor": "white",
           "linecolor": "white",
           "ticks": "",
           "title": {
            "standoff": 15
           },
           "zerolinecolor": "white",
           "zerolinewidth": 2
          }
         }
        },
        "title": {
         "text": "ICRP Effective Dose Coefficient (AP)"
        },
        "xaxis": {
         "range": [
          0,
          14100000
         ],
         "title": {
          "text": "Energy (eV)"
         },
         "type": "linear"
        },
        "yaxis": {
         "autorange": true,
         "range": [
          -48.57166666666666,
          984.6616666666666
         ],
         "title": {
          "text": "Effective dose per fluence, in units of pSv cm²"
         },
         "type": "linear"
        }
       }
      },
      "image/png": "[encoded data removed]",
      "text/html": [
       "<div>                            <div id=\"0a549bd8-e6cd-4eaa-b366-968a97929caa\" class=\"plotly-graph-div\" style=\"height:525px; width:100%;\"></div>            <script type=\"text/javascript\">                require([\"plotly\"], function(Plotly) {                    window.PLOTLYENV=window.PLOTLYENV || {};                                    if (document.getElementById(\"0a549bd8-e6cd-4eaa-b366-968a97929caa\")) {                    Plotly.newPlot(                        \"0a549bd8-e6cd-4eaa-b366-968a97929caa\",                        [{\"mode\":\"lines\",\"name\":\"neutron\",\"x\":[0.001,0.01,0.024999999999999998,0.09999999999999999,0.19999999999999998,0.5,1.0,2.0,5.0,10.0,20.0,50.0,100.0,200.0,500.0,1000.0,2000.0,5000.0,10000.0,20000.0,30000.0,50000.0,70000.0,100000.0,150000.0,200000.0,300000.0,500000.0,700000.0,900000.0,1000000.0,1200000.0,1500000.0,2000000.0,3000000.0,4000000.0,5000000.0,6000000.0,7000000.0,8000000.0,9000000.0,10000000.0,12000000.0,14000000.0,15000000.0,16000000.0,18000000.0,20000000.0,21000000.0,30000000.0,50000000.0,75000000.0,100000000.0,130000000.0,150000000.0,180000000.0,200000000.0,300000000.0,400000000.0,500000000.0,600000000.0,700000000.0,800000000.0,900000000.0,1000000000.0,2000000000.0,5000000000.0,10000000000.0],\"y\":[3.09,3.55,4.0,5.2,5.87,6.59,7.03,7.39,7.71,7.82,7.84,7.82,7.79,7.73,7.54,7.54,7.61,7.97,9.11,12.2,15.7,23.0,30.6,41.9,60.6,78.8,114.0,177.0,232.0,279.0,301.0,330.0,365.0,407.0,458.0,483.0,494.0,498.0,499.0,499.0,500.0,500.0,499.0,495.0,493.0,490.0,484.0,477.0,474.0,453.0,433.0,420.0,402.0,382.0,373.0,363.0,359.0,363.0,389.0,422.0,457.0,486.0,508.0,524.0,537.0,612.0,716.0,933.0],\"type\":\"scatter\"}],                        {\"template\":{\"data\":{\"histogram2dcontour\":[{\"type\":\"histogram2dcontour\",\"colorbar\":{\"outlinewidth\":0,\"ticks\":\"\"},\"colorscale\":[[0.0,\"#0d0887\"],[0.1111111111111111,\"#46039f\"],[0.2222222222222222,\"#7201a8\"],[0.3333333333333333,\"#9c179e\"],[0.4444444444444444,\"#bd3786\"],[0.5555555555555556,\"#d8576b\"],[0.6666666666666666,\"#ed7953\"],[0.7777777777777778,\"#fb9f3a\"],[0.8888888888888888,\"#fdca26\"],[1.0,\"#f0f921\"]]}],\"choropleth\":[{\"type\":\"choropleth\",\"colorbar\":{\"outlinewidth\":0,\"ticks\":\"\"}}],\"histogram2d\":[{\"type\":\"histogram2d\",\"colorbar\":{\"outlinewidth\":0,\"ticks\":\"\"},\"colorscale\":[[0.0,\"#0d0887\"],[0.1111111111111111,\"#46039f\"],[0.2222222222222222,\"#7201a8\"],[0.3333333333333333,\"#9c179e\"],[0.4444444444444444,\"#bd3786\"],[0.5555555555555556,\"#d8576b\"],[0.6666666666666666,\"#ed7953\"],[0.7777777777777778,\"#fb9f3a\"],[0.8888888888888888,\"#fdca26\"],[1.0,\"#f0f921\"]]}],\"heatmap\":[{\"type\":\"heatmap\",\"colorbar\":{\"outlinewidth\":0,\"ticks\":\"\"},\"colorscale\":[[0.0,\"#0d0887\"],[0.1111111111111111,\"#46039f\"],[0.2222222222222222,\"#7201a8\"],[0.3333333333333333,\"#9c179e\"],[0.4444444444444444,\"#bd3786\"],[0.5555555555555556,\"#d8576b\"],[0.6666666666666666,\"#ed7953\"],[0.7777777777777778,\"#fb9f3a\"],[0.8888888888888888,\"#fdca26\"],[1.0,\"#f0f921\"]]}],\"heatmapgl\":[{\"type\":\"heatmapgl\",\"colorbar\":{\"outlinewidth\":0,\"ticks\":\"\"},\"colorscale\":[[0.0,\"#0d0887\"],[0.1111111111111111,\"#46039f\"],[0.2222222222222222,\"#7201a8\"],[0.3333333333333333,\"#9c179e\"],[0.4444444444444444,\"#bd3786\"],[0.5555555555555556,\"#d8576b\"],[0.6666666666666666,\"#ed7953\"],[0.7777777777777778,\"#fb9f3a\"],[0.8888888888888888,\"#fdca26\"],[1.0,\"#f0f921\"]]}],\"contourcarpet\":[{\"type\":\"contourcarpet\",\"colorbar\":{\"outlinewidth\":0,\"ticks\":\"\"}}],\"contour\":[{\"type\":\"contour\",\"colorbar\":{\"outlinewidth\":0,\"ticks\":\"\"},\"colorscale\":[[0.0,\"#0d0887\"],[0.1111111111111111,\"#46039f\"],[0.2222222222222222,\"#7201a8\"],[0.3333333333333333,\"#9c179e\"],[0.4444444444444444,\"#bd3786\"],[0.5555555555555556,\"#d8576b\"],[0.6666666666666666,\"#ed7953\"],[0.7777777777777778,\"#fb9f3a\"],[0.8888888888888888,\"#fdca26\"],[1.0,\"#f0f921\"]]}],\"surface\":[{\"type\":\"surface\",\"colorbar\":{\"outlinewidth\":0,\"ticks\":\"\"},\"colorscale\":[[0.0,\"#0d0887\"],[0.1111111111111111,\"#46039f\"],[0.2222222222222222,\"#7201a8\"],[0.3333333333333333,\"#9c179e\"],[0.4444444444444444,\"#bd3786\"],[0.5555555555555556,\"#d8576b\"],[0.6666666666666666,\"#ed7953\"],[0.7777777777777778,\"#fb9f3a\"],[0.8888888888888888,\"#fdca26\"],[1.0,\"#f0f921\"]]}],\"mesh3d\":[{\"type\":\"mesh3d\",\"colorbar\":{\"outlinewidth\":0,\"ticks\":\"\"}}],\"scatter\":[{\"fillpattern\":{\"fillmode\":\"overlay\",\"size\":10,\"solidity\":0.2},\"type\":\"scatter\"}],\"parcoords\":[{\"type\":\"parcoords\",\"line\":{\"colorbar\":{\"outlinewidth\":0,\"ticks\":\"\"}}}],\"scatterpolargl\":[{\"type\":\"scatterpolargl\",\"marker\":{\"colorbar\":{\"outlinewidth\":0,\"ticks\":\"\"}}}],\"bar\":[{\"error_x\":{\"color\":\"#2a3f5f\"},\"error_y\":{\"color\":\"#2a3f5f\"},\"marker\":{\"line\":{\"color\":\"#E5ECF6\",\"width\":0.5},\"pattern\":{\"fillmode\":\"overlay\",\"size\":10,\"solidity\":0.2}},\"type\":\"bar\"}],\"scattergeo\":[{\"type\":\"scattergeo\",\"marker\":{\"colorbar\":{\"outlinewidth\":0,\"ticks\":\"\"}}}],\"scatterpolar\":[{\"type\":\"scatterpolar\",\"marker\":{\"colorbar\":{\"outlinewidth\":0,\"ticks\":\"\"}}}],\"histogram\":[{\"marker\":{\"pattern\":{\"fillmode\":\"overlay\",\"size\":10,\"solidity\":0.2}},\"type\":\"histogram\"}],\"scattergl\":[{\"type\":\"scattergl\",\"marker\":{\"colorbar\":{\"outlinewidth\":0,\"ticks\":\"\"}}}],\"scatter3d\":[{\"type\":\"scatter3d\",\"line\":{\"colorbar\":{\"outlinewidth\":0,\"ticks\":\"\"}},\"marker\":{\"colorbar\":{\"outlinewidth\":0,\"ticks\":\"\"}}}],\"scattermapbox\":[{\"type\":\"scattermapbox\",\"marker\":{\"colorbar\":{\"outlinewidth\":0,\"ticks\":\"\"}}}],\"scatterternary\":[{\"type\":\"scatterternary\",\"marker\":{\"colorbar\":{\"outlinewidth\":0,\"ticks\":\"\"}}}],\"scattercarpet\":[{\"type\":\"scattercarpet\",\"marker\":{\"colorbar\":{\"outlinewidth\":0,\"ticks\":\"\"}}}],\"carpet\":[{\"aaxis\":{\"endlinecolor\":\"#2a3f5f\",\"gridcolor\":\"white\",\"linecolor\":\"white\",\"minorgridcolor\":\"white\",\"startlinecolor\":\"#2a3f5f\"},\"baxis\":{\"endlinecolor\":\"#2a3f5f\",\"gridcolor\":\"white\",\"linecolor\":\"white\",\"minorgridcolor\":\"white\",\"startlinecolor\":\"#2a3f5f\"},\"type\":\"carpet\"}],\"table\":[{\"cells\":{\"fill\":{\"color\":\"#EBF0F8\"},\"line\":{\"color\":\"white\"}},\"header\":{\"fill\":{\"color\":\"#C8D4E3\"},\"line\":{\"color\":\"white\"}},\"type\":\"table\"}],\"barpolar\":[{\"marker\":{\"line\":{\"color\":\"#E5ECF6\",\"width\":0.5},\"pattern\":{\"fillmode\":\"overlay\",\"size\":10,\"solidity\":0.2}},\"type\":\"barpolar\"}],\"pie\":[{\"automargin\":true,\"type\":\"pie\"}]},\"layout\":{\"autotypenumbers\":\"strict\",\"colorway\":[\"#636efa\",\"#EF553B\",\"#00cc96\",\"#ab63fa\",\"#FFA15A\",\"#19d3f3\",\"#FF6692\",\"#B6E880\",\"#FF97FF\",\"#FECB52\"],\"font\":{\"color\":\"#2a3f5f\"},\"hovermode\":\"closest\",\"hoverlabel\":{\"align\":\"left\"},\"paper_bgcolor\":\"white\",\"plot_bgcolor\":\"#E5ECF6\",\"polar\":{\"bgcolor\":\"#E5ECF6\",\"angularaxis\":{\"gridcolor\":\"white\",\"linecolor\":\"white\",\"ticks\":\"\"},\"radialaxis\":{\"gridcolor\":\"white\",\"linecolor\":\"white\",\"ticks\":\"\"}},\"ternary\":{\"bgcolor\":\"#E5ECF6\",\"aaxis\":{\"gridcolor\":\"white\",\"linecolor\":\"white\",\"ticks\":\"\"},\"baxis\":{\"gridcolor\":\"white\",\"linecolor\":\"white\",\"ticks\":\"\"},\"caxis\":{\"gridcolor\":\"white\",\"linecolor\":\"white\",\"ticks\":\"\"}},\"coloraxis\":{\"colorbar\":{\"outlinewidth\":0,\"ticks\":\"\"}},\"colorscale\":{\"sequential\":[[0.0,\"#0d0887\"],[0.1111111111111111,\"#46039f\"],[0.2222222222222222,\"#7201a8\"],[0.3333333333333333,\"#9c179e\"],[0.4444444444444444,\"#bd3786\"],[0.5555555555555556,\"#d8576b\"],[0.6666666666666666,\"#ed7953\"],[0.7777777777777778,\"#fb9f3a\"],[0.8888888888888888,\"#fdca26\"],[1.0,\"#f0f921\"]],\"sequentialminus\":[[0.0,\"#0d0887\"],[0.1111111111111111,\"#46039f\"],[0.2222222222222222,\"#7201a8\"],[0.3333333333333333,\"#9c179e\"],[0.4444444444444444,\"#bd3786\"],[0.5555555555555556,\"#d8576b\"],[0.6666666666666666,\"#ed7953\"],[0.7777777777777778,\"#fb9f3a\"],[0.8888888888888888,\"#fdca26\"],[1.0,\"#f0f921\"]],\"diverging\":[[0,\"#8e0152\"],[0.1,\"#c51b7d\"],[0.2,\"#de77ae\"],[0.3,\"#f1b6da\"],[0.4,\"#fde0ef\"],[0.5,\"#f7f7f7\"],[0.6,\"#e6f5d0\"],[0.7,\"#b8e186\"],[0.8,\"#7fbc41\"],[0.9,\"#4d9221\"],[1,\"#276419\"]]},\"xaxis\":{\"gridcolor\":\"white\",\"linecolor\":\"white\",\"ticks\":\"\",\"title\":{\"standoff\":15},\"zerolinecolor\":\"white\",\"automargin\":true,\"zerolinewidth\":2},\"yaxis\":{\"gridcolor\":\"white\",\"linecolor\":\"white\",\"ticks\":\"\",\"title\":{\"standoff\":15},\"zerolinecolor\":\"white\",\"automargin\":true,\"zerolinewidth\":2},\"scene\":{\"xaxis\":{\"backgroundcolor\":\"#E5ECF6\",\"gridcolor\":\"white\",\"linecolor\":\"white\",\"showbackground\":true,\"ticks\":\"\",\"zerolinecolor\":\"white\",\"gridwidth\":2},\"yaxis\":{\"backgroundcolor\":\"#E5ECF6\",\"gridcolor\":\"white\",\"linecolor\":\"white\",\"showbackground\":true,\"ticks\":\"\",\"zerolinecolor\":\"white\",\"gridwidth\":2},\"zaxis\":{\"backgroundcolor\":\"#E5ECF6\",\"gridcolor\":\"white\",\"linecolor\":\"white\",\"showbackground\":true,\"ticks\":\"\",\"zerolinecolor\":\"white\",\"gridwidth\":2}},\"shapedefaults\":{\"line\":{\"color\":\"#2a3f5f\"}},\"annotationdefaults\":{\"arrowcolor\":\"#2a3f5f\",\"arrowhead\":0,\"arrowwidth\":1},\"geo\":{\"bgcolor\":\"white\",\"landcolor\":\"#E5ECF6\",\"subunitcolor\":\"white\",\"showland\":true,\"showlakes\":true,\"lakecolor\":\"white\"},\"title\":{\"x\":0.05},\"mapbox\":{\"style\":\"light\"}}},\"xaxis\":{\"title\":{\"text\":\"Energy (eV)\"},\"range\":[0,14100000.0]},\"title\":{\"text\":\"ICRP Effective Dose Coefficient (AP)\"},\"yaxis\":{\"title\":{\"text\":\"Effective dose per fluence, in units of pSv cm\\u00b2\"}}},                        {\"responsive\": true}                    ).then(function(){\n",
       "                            \n",
       "var gd = document.getElementById('0a549bd8-e6cd-4eaa-b366-968a97929caa');\n",
       "var x = new MutationObserver(function (mutations, observer) {{\n",
       "        var display = window.getComputedStyle(gd).display;\n",
       "        if (!display || display === 'none') {{\n",
       "            console.log([gd, 'removed!']);\n",
       "            Plotly.purge(gd);\n",
       "            observer.disconnect();\n",
       "        }}\n",
       "}});\n",
       "\n",
       "// Listen for the removal of the full notebook cells\n",
       "var notebookContainer = gd.closest('#notebook-container');\n",
       "if (notebookContainer) {{\n",
       "    x.observe(notebookContainer, {childList: true});\n",
       "}}\n",
       "\n",
       "// Listen for the clearing of the current output cell\n",
       "var outputEl = gd.closest('.output');\n",
       "if (outputEl) {{\n",
       "    x.observe(outputEl, {childList: true});\n",
       "}}\n",
       "\n",
       "                        })                };                });            </script>        </div>"
      ]
     },
     "metadata": {},
     "output_type": "display_data"
    }
   ],
   "source": [
    "energy_bins_n, dose_coeffs_n = openmc.data.dose_coefficients(\n",
    "    particle='neutron', geometry='AP')\n",
    "\n",
    "fig = go.Figure()\n",
    "\n",
    "fig.update_layout(\n",
    "      title='ICRP Effective Dose Coefficient (AP)',\n",
    "      xaxis={'title': 'Energy (eV)',\n",
    "             'range': (0, 14.1e6)},\n",
    "      yaxis={'title': 'Effective dose per fluence, in units of pSv cm²'}\n",
    ")\n",
    "\n",
    "\n",
    "\n",
    "fig.add_trace(go.Scatter(\n",
    "    x=energy_bins_n,\n",
    "    y=dose_coeffs_n,\n",
    "    mode='lines',\n",
    "    name='neutron'\n",
    "))"
   ]
  },
  {
   "cell_type": "code",
   "execution_count": 93,
   "id": "47ef1197-4a5f-486e-9947-0b6385d855c6",
   "metadata": {},
   "outputs": [],
   "source": [
    "#materials\n",
    "#air\n",
    "air = openmc.Material(name='air')\n",
    "air.add_element(\"O\",0.210748,'ao')\n",
    "air.add_element(\"N\",0.784431,'ao')\n",
    "air.add_element(\"Ar\",0.004671,'ao')\n",
    "air.add_element(\"C\", 0.00015,'ao')\n",
    "air.set_density(\"g/cm3\", 0.001205)\n",
    "\n",
    "#ground surface - concrete\n",
    "#ground_material = nmm.Material.from_library(\"concrete_heavy\").openmc_material\n",
    "ground_material = openmc.Material(name='ground_material')\n",
    "ground_material.add_element(\"H\" , 0.0052, 'ao')\n",
    "ground_material.add_element(\"O\",  0.3273, 'ao')\n",
    "ground_material.add_element(\"C\", 0.004, 'ao')\n",
    "ground_material.add_element(\"Si\", 0.0224, 'ao')\n",
    "ground_material.add_element(\"Ca\",  0.0657, 'ao')\n",
    "ground_material.add_element(\"Mg\", 0.0021, 'ao')\n",
    "ground_material.add_element(\"Al\", 0.0038, 'ao')\n",
    "ground_material.add_element(\"Fe\", 0.568, 'ao')\n",
    "ground_material.add_element(\"P\", 0.0015, 'ao')\n",
    "ground_material.set_density(\"g/cm3\", 3.6)\n",
    "mats = openmc.Materials([ground_material, air])\n",
    "mats.export_to_xml()"
   ]
  },
  {
   "cell_type": "code",
   "execution_count": 94,
   "id": "8189cc7c-74d7-4a52-8f11-170282934221",
   "metadata": {},
   "outputs": [
    {
     "data": {
      "image/png": "[encoded data removed]",
      "text/plain": [
       "<Figure size 258.065x259.74 with 1 Axes>"
      ]
     },
     "metadata": {},
     "output_type": "display_data"
    },
    {
     "data": {
      "image/png": "[encoded data removed]",
      "text/plain": [
       "<Figure size 258.065x259.74 with 1 Axes>"
      ]
     },
     "metadata": {},
     "output_type": "display_data"
    },
    {
     "data": {
      "image/png": "[encoded data removed]",
      "text/plain": [
       "<Figure size 258.065x259.74 with 1 Axes>"
      ]
     },
     "metadata": {},
     "output_type": "display_data"
    }
   ],
   "source": [
    "#ground surface\n",
    "air_surface = openmc.model.RectangularParallelepiped(-50000, 50000, -10000, 10000, 0, 100000)\n",
    "air_cell = openmc.Cell(region=-air_surface, fill=air)\n",
    "\n",
    "ground_surface = openmc.model.RectangularParallelepiped(-50000, 50000, -10000, 10000, -1000, 0)\n",
    "ground_cell = openmc.Cell(region=-ground_surface, fill=ground_material)\n",
    "\n",
    "xmin = openmc.XPlane(x0=-50001, boundary_type = 'vacuum')\n",
    "xmax = openmc.XPlane(x0=50001, boundary_type = 'vacuum')\n",
    "ymin = openmc.YPlane(y0=-10001, boundary_type = 'vacuum')\n",
    "ymax = openmc.YPlane(y0=10001, boundary_type = 'vacuum')\n",
    "zmin = openmc.ZPlane(z0=-1001, boundary_type = 'vacuum')\n",
    "zmax = openmc.ZPlane(z0=100001, boundary_type = 'vacuum')\n",
    "\n",
    "void_region = +xmin & -xmax & -ymax & +ymin & +zmin & -zmax\n",
    "\n",
    "void_cell =  openmc.Cell(region=void_region)\n",
    "\n",
    "universe = openmc.Universe(cells=[air_cell, void_cell, ground_cell])\n",
    "geom = openmc.Geometry(universe)\n",
    "geom.export_to_xml()\n",
    "\n",
    "color_assignment = {void_cell: 'blue', ground_cell: 'red', air:'purple'}\n",
    "plt.show(universe.plot(width=(300100, 301100), basis='xz', colors=color_assignment))\n",
    "plt.show(universe.plot(width=(101100, 101100), basis='xy', colors=color_assignment))\n",
    "plt.show(universe.plot(width=(21100, 21100), basis='yz', colors=color_assignment))"
   ]
  },
  {
   "cell_type": "code",
   "execution_count": 95,
   "id": "bde64b4f-33d1-4c15-8d68-d4968ec43bbb",
   "metadata": {},
   "outputs": [],
   "source": [
    "def sim_sett(ww):\n",
    "    #create the source\n",
    "    sett = openmc.Settings()\n",
    "    sett.particles = 10000000\n",
    "    sett.batches = 4\n",
    "    sett.inactive = 0\n",
    "    sett.run_mode = 'fixed source'\n",
    "    sett.weight_windows = ww\n",
    "\n",
    "    source = openmc.Source()\n",
    "    source.particle = 'neutron'\n",
    "    source.energy = openmc.stats.Discrete([19e6], [1])\n",
    "\n",
    "    mu = openmc.stats.Uniform(cos(pi/5), 1.0)\n",
    "    phi = openmc.stats.Uniform(0.0, 2*pi)\n",
    "    source.angle  = openmc.stats.PolarAzimuthal(mu, phi, reference_uvw=(0, 0., 1))\n",
    "    source.space = openmc.stats.Point((0,0,5000))\n",
    "    sett.source = source\n",
    "    \n",
    "    #%matplotlib inline\n",
    "    #plot = source.plot_source_direction()\n",
    "    #plot.show()\n",
    "    \n",
    "    sett.export_to_xml()\n",
    "    return sett"
   ]
  },
  {
   "cell_type": "code",
   "execution_count": 96,
   "id": "64cbe04a-7657-4b29-827f-05d3064181af",
   "metadata": {},
   "outputs": [
    {
     "name": "stderr",
     "output_type": "stream",
     "text": [
      "/usr/local/lib/python3.9/dist-packages/openmc/mixin.py:70: IDWarning:\n",
      "\n",
      "Another MeshBase instance already exists with id=1.\n",
      "\n"
     ]
    }
   ],
   "source": [
    "#mesh\n",
    "air_mesh = openmc.RegularMesh(mesh_id=1, name=\"air_mesh\")\n",
    "air_mesh.dimension = [1000,1,1]\n",
    "air_mesh.lower_left = [-50000,-10000, 0]\n",
    "\n",
    "air_mesh.upper_right = [50000,10000, 100]\n",
    "\n",
    "mesh_filter = openmc.MeshFilter(air_mesh)\n",
    "#air_mesh.vertices"
   ]
  },
  {
   "cell_type": "code",
   "execution_count": 100,
   "id": "6e592447-f271-4355-bf82-f28ffaa72189",
   "metadata": {},
   "outputs": [
    {
     "data": {
      "text/plain": [
       "'/root/OpenMC/openmc/ISIS/Skyshine'"
      ]
     },
     "execution_count": 100,
     "metadata": {},
     "output_type": "execute_result"
    }
   ],
   "source": [
    "pwd"
   ]
  },
  {
   "cell_type": "code",
   "execution_count": 106,
   "id": "fb1269c7-0c10-48a6-9942-c08912789b55",
   "metadata": {},
   "outputs": [
    {
     "ename": "ValueError",
     "evalue": "cannot reshape array of size 15625 into shape (1000,1,1,1)",
     "output_type": "error",
     "traceback": [
      "\u001b[0;31m---------------------------------------------------------------------------\u001b[0m",
      "\u001b[0;31mValueError\u001b[0m                                Traceback (most recent call last)",
      "Cell \u001b[0;32mIn [106], line 3\u001b[0m\n\u001b[1;32m      1\u001b[0m \u001b[38;5;66;03m#implement weight windows\u001b[39;00m\n\u001b[1;32m      2\u001b[0m \u001b[38;5;28;01mfrom\u001b[39;00m \u001b[38;5;21;01mweight_windows_values\u001b[39;00m \u001b[38;5;28;01mimport\u001b[39;00m upper_ww_bounds, lower_ww_bounds\n\u001b[0;32m----> 3\u001b[0m ww \u001b[38;5;241m=\u001b[39m \u001b[43mopenmc\u001b[49m\u001b[38;5;241;43m.\u001b[39;49m\u001b[43mWeightWindows\u001b[49m\u001b[43m(\u001b[49m\n\u001b[1;32m      4\u001b[0m \u001b[43m    \u001b[49m\u001b[43mmesh\u001b[49m\u001b[38;5;241;43m=\u001b[39;49m\u001b[43mair_mesh\u001b[49m\u001b[43m,\u001b[49m\n\u001b[1;32m      5\u001b[0m \u001b[43m    \u001b[49m\u001b[43mupper_ww_bounds\u001b[49m\u001b[38;5;241;43m=\u001b[39;49m\u001b[43mupper_ww_bounds\u001b[49m\u001b[43m,\u001b[49m\n\u001b[1;32m      6\u001b[0m \u001b[43m    \u001b[49m\u001b[43mlower_ww_bounds\u001b[49m\u001b[38;5;241;43m=\u001b[39;49m\u001b[43mlower_ww_bounds\u001b[49m\u001b[43m,\u001b[49m\n\u001b[1;32m      7\u001b[0m \u001b[43m    \u001b[49m\u001b[43mparticle_type\u001b[49m\u001b[38;5;241;43m=\u001b[39;49m\u001b[38;5;124;43m'\u001b[39;49m\u001b[38;5;124;43mneutron\u001b[39;49m\u001b[38;5;124;43m'\u001b[39;49m\u001b[43m,\u001b[49m\n\u001b[1;32m      8\u001b[0m \u001b[43m    \u001b[49m\u001b[43menergy_bounds\u001b[49m\u001b[38;5;241;43m=\u001b[39;49m\u001b[43m(\u001b[49m\u001b[38;5;241;43m0.0\u001b[39;49m\u001b[43m,\u001b[49m\u001b[43m \u001b[49m\u001b[38;5;241;43m100000000.\u001b[39;49m\u001b[43m)\u001b[49m\u001b[43m,\u001b[49m\u001b[43m  \u001b[49m\u001b[38;5;66;43;03m# applies this weight window to neutrons of within a large energy range (basically all neutrons in the simulation)\u001b[39;49;00m\n\u001b[1;32m      9\u001b[0m \u001b[43m    \u001b[49m\u001b[43msurvival_ratio\u001b[49m\u001b[38;5;241;43m=\u001b[39;49m\u001b[38;5;241;43m5\u001b[39;49m\n\u001b[1;32m     10\u001b[0m \u001b[43m)\u001b[49m\n",
      "File \u001b[0;32m/usr/local/lib/python3.9/dist-packages/openmc/weight_windows.py:118\u001b[0m, in \u001b[0;36mWeightWindows.__init__\u001b[0;34m(self, mesh, lower_ww_bounds, upper_ww_bounds, upper_bound_ratio, energy_bounds, particle_type, survival_ratio, max_lower_bound_ratio, max_split, weight_cutoff, id)\u001b[0m\n\u001b[1;32m    116\u001b[0m \u001b[38;5;28mself\u001b[39m\u001b[38;5;241m.\u001b[39mparticle_type \u001b[38;5;241m=\u001b[39m particle_type\n\u001b[1;32m    117\u001b[0m \u001b[38;5;28mself\u001b[39m\u001b[38;5;241m.\u001b[39menergy_bounds \u001b[38;5;241m=\u001b[39m energy_bounds\n\u001b[0;32m--> 118\u001b[0m \u001b[38;5;28;43mself\u001b[39;49m\u001b[38;5;241;43m.\u001b[39;49m\u001b[43mlower_ww_bounds\u001b[49m \u001b[38;5;241m=\u001b[39m lower_ww_bounds\n\u001b[1;32m    120\u001b[0m \u001b[38;5;28;01mif\u001b[39;00m upper_ww_bounds \u001b[38;5;129;01mis\u001b[39;00m \u001b[38;5;129;01mnot\u001b[39;00m \u001b[38;5;28;01mNone\u001b[39;00m \u001b[38;5;129;01mand\u001b[39;00m upper_bound_ratio:\n\u001b[1;32m    121\u001b[0m     \u001b[38;5;28;01mraise\u001b[39;00m \u001b[38;5;167;01mValueError\u001b[39;00m(\u001b[38;5;124m\"\u001b[39m\u001b[38;5;124mExactly one of upper_ww_bounds and \u001b[39m\u001b[38;5;124m\"\u001b[39m\n\u001b[1;32m    122\u001b[0m                      \u001b[38;5;124m\"\u001b[39m\u001b[38;5;124mupper_bound_ratio must be present.\u001b[39m\u001b[38;5;124m\"\u001b[39m)\n",
      "File \u001b[0;32m/usr/local/lib/python3.9/dist-packages/openmc/weight_windows.py:211\u001b[0m, in \u001b[0;36mWeightWindows.lower_ww_bounds\u001b[0;34m(self, bounds)\u001b[0m\n\u001b[1;32m    209\u001b[0m     bounds\u001b[38;5;241m.\u001b[39mreshape(\u001b[38;5;241m-\u001b[39m\u001b[38;5;241m1\u001b[39m, \u001b[38;5;28mself\u001b[39m\u001b[38;5;241m.\u001b[39mnum_energy_bins)\n\u001b[1;32m    210\u001b[0m \u001b[38;5;28;01melse\u001b[39;00m:\n\u001b[0;32m--> 211\u001b[0m     \u001b[43mbounds\u001b[49m\u001b[38;5;241;43m.\u001b[39;49m\u001b[43mreshape\u001b[49m\u001b[43m(\u001b[49m\u001b[38;5;241;43m*\u001b[39;49m\u001b[38;5;28;43mself\u001b[39;49m\u001b[38;5;241;43m.\u001b[39;49m\u001b[43mmesh\u001b[49m\u001b[38;5;241;43m.\u001b[39;49m\u001b[43mdimension\u001b[49m\u001b[43m,\u001b[49m\u001b[43m \u001b[49m\u001b[38;5;28;43mself\u001b[39;49m\u001b[38;5;241;43m.\u001b[39;49m\u001b[43mnum_energy_bins\u001b[49m\u001b[43m)\u001b[49m\n\u001b[1;32m    212\u001b[0m \u001b[38;5;28mself\u001b[39m\u001b[38;5;241m.\u001b[39m_lower_ww_bounds \u001b[38;5;241m=\u001b[39m bounds\n",
      "\u001b[0;31mValueError\u001b[0m: cannot reshape array of size 15625 into shape (1000,1,1,1)"
     ]
    }
   ],
   "source": [
    "#implement weight windows\n",
    "from weight_windows_values import upper_ww_bounds, lower_ww_bounds\n",
    "ww = openmc.WeightWindows(\n",
    "    mesh=air_mesh,\n",
    "    upper_ww_bounds=upper_ww_bounds,\n",
    "    lower_ww_bounds=lower_ww_bounds,\n",
    "    particle_type='neutron',\n",
    "    energy_bounds=(0.0, 100000000.),  # applies this weight window to neutrons of within a large energy range (basically all neutrons in the simulation)\n",
    "    survival_ratio=5\n",
    ")"
   ]
  },
  {
   "cell_type": "code",
   "execution_count": null,
   "id": "5d682729-ac65-4530-b00d-4c4ae1e5f82a",
   "metadata": {},
   "outputs": [],
   "source": [
    "energy_function_filter_n = openmc.EnergyFunctionFilter(energy_bins_n, dose_coeffs_n)\n",
    "#energy_function_filter_n.interpolation == 'cubic'\n",
    "neutron_particle_filter = openmc.ParticleFilter(['neutron'])"
   ]
  },
  {
   "cell_type": "code",
   "execution_count": null,
   "id": "1c8406fe-32a0-4a57-8301-99d99ef2b45a",
   "metadata": {},
   "outputs": [],
   "source": [
    "#tally\n",
    "tallies = openmc.Tallies()\n",
    "shine_dose_tally = openmc.Tally(name='shine_dose_tally')\n",
    "shine_dose_tally.scores  = ['flux']\n",
    "shine_dose_tally.filters = [mesh_filter, neutron_particle_filter, energy_function_filter_n]\n",
    "tallies.append(shine_dose_tally)\n",
    "tallies.export_to_xml()"
   ]
  },
  {
   "cell_type": "code",
   "execution_count": null,
   "id": "9720f42c-b872-4c58-861c-e983aa675bca",
   "metadata": {},
   "outputs": [],
   "source": [
    "#look at current through mesh surface\n",
    "surf_mesh_filter = openmc.MeshSurfaceFilter(air_mesh)\n",
    "mesh_current_tally = openmc.Tally(name='mesh_current_tally')\n",
    "mesh_current_tally.scores = ['current']\n",
    "mesh_current_tally.filters = [surf_mesh_filter, neutron_particle_filter]\n",
    "tallies.append(mesh_current_tally)"
   ]
  },
  {
   "cell_type": "code",
   "execution_count": null,
   "id": "928d203c-0346-47c3-b50c-cd33dbd9d0ee",
   "metadata": {},
   "outputs": [],
   "source": [
    "settings = sim_sett(ww)\n",
    "model = openmc.model.Model(geom, mats, settings, tallies)\n",
    "!rm *.h5\n",
    "results_filename = model.run(threads=8)\n",
    "    \n",
    "results = openmc.StatePoint(results_filename)\n",
    "flux_tally = results.get_tally(name=\"shine_dose_tally\")\n",
    "df_dose = flux_tally.get_pandas_dataframe()\n",
    "mesh_curr_tally = results.get_tally(name=\"mesh_current_tally\")\n",
    "\n",
    "results.close()"
   ]
  },
  {
   "cell_type": "code",
   "execution_count": null,
   "id": "ff5b065c-46a4-4940-a645-f11c43367fb2",
   "metadata": {},
   "outputs": [],
   "source": [
    "mesh_vol = 1*20\n",
    "distance_x = air_mesh.vertices[:,0,0,0]\n"
   ]
  },
  {
   "cell_type": "code",
   "execution_count": null,
   "id": "856f4262-0953-4247-b8d3-5d28f589a8ca",
   "metadata": {},
   "outputs": [],
   "source": [
    "df_curr = mesh_curr_tally.get_pandas_dataframe()\n",
    "df_curr.iloc[0:12]"
   ]
  },
  {
   "cell_type": "code",
   "execution_count": null,
   "id": "bf5b1386-d01a-44ec-8e27-cb2da0002e05",
   "metadata": {},
   "outputs": [],
   "source": [
    "\n",
    "flux = df[df['score'] == 'flux']\n",
    "flux_mean = (flux[\"mean\"] / mesh_vol)\n",
    "flux_std = (flux[\"std. dev.\"] / mesh_vol) \n",
    "plt.errorbar(distance_x[:-1]/100, flux_mean/10**6, flux_std/10**6,ls='None', marker='x')\n",
    "plt.xlabel(\"Distance in x-direction from Source (m)\")\n",
    "plt.ylabel(\"Dose ($\\mu$Sv per Pulse) \")\n",
    "plt.axvline(x=0, ls='--', color='black')\n",
    "plt.xlim(-1,100)\n",
    "plt.ylim(5e-7,8e-7)\n",
    "#plt.yscale('log')"
   ]
  },
  {
   "cell_type": "markdown",
   "id": "a8fd51cd-aab5-48c4-8f75-ac37dd7045fe",
   "metadata": {},
   "source": [
    "#plot flux as function of energy\n",
    "flux_array = np.array(flux_list)\n",
    "flux_array\n",
    "np.max(df_list[0][\"mean\"])"
   ]
  },
  {
   "cell_type": "code",
   "execution_count": null,
   "id": "8c9826f5-d45e-4113-81cc-766796fa7ede",
   "metadata": {},
   "outputs": [],
   "source": [
    "plt.loglog(angles, max_means, color='b', ls=None, marker='x')\n",
    "plt.xlabel(r\"Angle $\\theta$ of distribution\")\n",
    "plt.ylabel(\"Flux p/sp per cm2\")\n",
    "plt.title(\"Flux as function of angular distribution\")"
   ]
  },
  {
   "cell_type": "code",
   "execution_count": null,
   "id": "288266aa-79a2-4ac9-bfa2-27630c256128",
   "metadata": {},
   "outputs": [],
   "source": [
    "curr = df_curr[df_curr['score'] == 'current']\n",
    "curr_mean = (curr[\"mean\"] / mesh_vol)\n",
    "curr_std = (curr[\"std. dev.\"] / mesh_vol) \n",
    "len(distance_x)"
   ]
  },
  {
   "cell_type": "code",
   "execution_count": null,
   "id": "1aa0c674-1a5e-48a9-a611-dab01f3ac769",
   "metadata": {},
   "outputs": [],
   "source": [
    "\n",
    "plt.errorbar(distance_x[:-1]/100, curr_mean/10**6, curr_std/10**6,ls='None', marker='x')\n",
    "plt.xlabel(\"Distance in x-direction from Source (m)\")\n",
    "plt.ylabel(\"Dose ($\\mu$Sv per Pulse) \")"
   ]
  },
  {
   "cell_type": "code",
   "execution_count": null,
   "id": "4e85e3d2-7df6-4bee-bf4d-1601267780b9",
   "metadata": {},
   "outputs": [],
   "source": []
  }
 ],
 "metadata": {
  "kernelspec": {
   "display_name": "Python 3 (ipykernel)",
   "language": "python",
   "name": "python3"
  },
  "language_info": {
   "codemirror_mode": {
    "name": "ipython",
    "version": 3
   },
   "file_extension": ".py",
   "mimetype": "text/x-python",
   "name": "python",
   "nbconvert_exporter": "python",
   "pygments_lexer": "ipython3",
   "version": "3.9.2"
  }
 },
 "nbformat": 4,
 "nbformat_minor": 5
}
