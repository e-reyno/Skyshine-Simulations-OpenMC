{
 "cells": [
  {
   "cell_type": "code",
   "execution_count": 52,
   "id": "82314a05-1d26-4425-88a8-05859d03eb3c",
   "metadata": {},
   "outputs": [],
   "source": [
    "import openmc\n",
    "import numpy as np\n",
    "import neutronics_material_maker as nmm\n",
    "import matplotlib.pyplot as plt\n",
    "from cycler import cycler\n",
    "from math import cos, pi"
   ]
  },
  {
   "cell_type": "code",
   "execution_count": 53,
   "id": "caf12ddd-880d-491e-972c-5686de8556ca",
   "metadata": {},
   "outputs": [],
   "source": [
    "import openmc_source_plotter"
   ]
  },
  {
   "cell_type": "code",
   "execution_count": 54,
   "id": "47ef1197-4a5f-486e-9947-0b6385d855c6",
   "metadata": {},
   "outputs": [],
   "source": [
    "#materials\n",
    "#air\n",
    "air = openmc.Material(name='air')\n",
    "air.add_element(\"O\",0.210748,'ao')\n",
    "air.add_element(\"N\",0.784431,'ao')\n",
    "air.add_element(\"Ar\",0.004671,'ao')\n",
    "air.add_element(\"C\", 0.00015,'ao')\n",
    "air.set_density(\"g/cm3\", 0.001205)\n",
    "\n",
    "#ground surface - concrete\n",
    "#ground_material = nmm.Material.from_library(\"concrete_heavy\").openmc_material\n",
    "ground_material = openmc.Material(name='ground_material')\n",
    "ground_material.add_element(\"H\" , 0.0052, 'ao')\n",
    "ground_material.add_element(\"O\",  0.3273, 'ao')\n",
    "ground_material.add_element(\"C\", 0.004, 'ao')\n",
    "ground_material.add_element(\"Si\", 0.0224, 'ao')\n",
    "ground_material.add_element(\"Ca\",  0.0657, 'ao')\n",
    "ground_material.add_element(\"Mg\", 0.0021, 'ao')\n",
    "ground_material.add_element(\"Al\", 0.0038, 'ao')\n",
    "ground_material.add_element(\"Fe\", 0.568, 'ao')\n",
    "ground_material.add_element(\"P\", 0.0015, 'ao')\n",
    "ground_material.set_density(\"g/cm3\", 3.6)\n",
    "mats = openmc.Materials([ground_material, air])\n",
    "mats.export_to_xml()"
   ]
  },
  {
   "cell_type": "code",
   "execution_count": 55,
   "id": "8189cc7c-74d7-4a52-8f11-170282934221",
   "metadata": {},
   "outputs": [
    {
     "data": {
      "image/png": "[encoded data removed]",
      "text/plain": [
       "<Figure size 258.065x259.74 with 1 Axes>"
      ]
     },
     "metadata": {},
     "output_type": "display_data"
    },
    {
     "data": {
      "image/png": "[encoded data removed]",
      "text/plain": [
       "<Figure size 258.065x259.74 with 1 Axes>"
      ]
     },
     "metadata": {},
     "output_type": "display_data"
    },
    {
     "data": {
      "image/png": "[encoded data removed]",
      "text/plain": [
       "<Figure size 258.065x259.74 with 1 Axes>"
      ]
     },
     "metadata": {},
     "output_type": "display_data"
    }
   ],
   "source": [
    "#ground surface\n",
    "air_surface = openmc.model.RectangularParallelepiped(-50000, 50000, -10000, 10000, 0, 100000)\n",
    "air_cell = openmc.Cell(region=-air_surface, fill=air)\n",
    "\n",
    "ground_surface = openmc.model.RectangularParallelepiped(-50000, 50000, -10000, 10000, -1000, 0)\n",
    "ground_cell = openmc.Cell(region=-ground_surface, fill=ground_material)\n",
    "\n",
    "xmin = openmc.XPlane(x0=-50001, boundary_type = 'vacuum')\n",
    "xmax = openmc.XPlane(x0=50001, boundary_type = 'vacuum')\n",
    "ymin = openmc.YPlane(y0=-10001, boundary_type = 'vacuum')\n",
    "ymax = openmc.YPlane(y0=10001, boundary_type = 'vacuum')\n",
    "zmin = openmc.ZPlane(z0=-1001, boundary_type = 'vacuum')\n",
    "zmax = openmc.ZPlane(z0=100001, boundary_type = 'vacuum')\n",
    "\n",
    "void_region = +xmin & -xmax & -ymax & +ymin & +zmin & -zmax\n",
    "\n",
    "void_cell =  openmc.Cell(region=void_region)\n",
    "\n",
    "universe = openmc.Universe(cells=[air_cell, void_cell, ground_cell])\n",
    "geom = openmc.Geometry(universe)\n",
    "geom.export_to_xml()\n",
    "\n",
    "color_assignment = {void_cell: 'blue', ground_cell: 'red', air:'purple'}\n",
    "plt.show(universe.plot(width=(300100, 301100), basis='xz', colors=color_assignment))\n",
    "plt.show(universe.plot(width=(101100, 101100), basis='xy', colors=color_assignment))\n",
    "plt.show(universe.plot(width=(21100, 21100), basis='yz', colors=color_assignment))"
   ]
  },
  {
   "cell_type": "code",
   "execution_count": 56,
   "id": "bde64b4f-33d1-4c15-8d68-d4968ec43bbb",
   "metadata": {},
   "outputs": [],
   "source": [
    "#set at 2Mev energy and 45 degree angle while varying soruce height)\n",
    "def sim_sett():\n",
    "    #create the source\n",
    "    sett = openmc.Settings()\n",
    "    sett.particles = 10000000\n",
    "    sett.batches = 5\n",
    "    sett.inactive = 0\n",
    "    sett.run_mode = 'fixed source'\n",
    "\n",
    "    source = openmc.Source()\n",
    "    source.particle = 'neutron'\n",
    "    source.energy = openmc.stats.Discrete([14e6], [1])\n",
    "\n",
    "    mu = openmc.stats.Uniform(cos(pi/5), 1.0)\n",
    "    phi = openmc.stats.Uniform(0.0, 2*pi)\n",
    "    source.angle  = openmc.stats.PolarAzimuthal(mu, phi, reference_uvw=(0, 0., 1))\n",
    "    source.space = openmc.stats.Point((0,0,2000))\n",
    "    #%matplotlib inline\n",
    "    #plot = source.plot_source_direction()\n",
    "    #plot.show()\n",
    "    sett.source = source\n",
    "    sett.export_to_xml()\n",
    "    return sett\n"
   ]
  },
  {
   "cell_type": "code",
   "execution_count": 65,
   "id": "64cbe04a-7657-4b29-827f-05d3064181af",
   "metadata": {},
   "outputs": [
    {
     "name": "stderr",
     "output_type": "stream",
     "text": [
      "/usr/local/lib/python3.9/dist-packages/openmc/mixin.py:70: IDWarning: Another MeshBase instance already exists with id=1.\n",
      "  warn(msg, IDWarning)\n"
     ]
    },
    {
     "data": {
      "text/plain": [
       "array([[[[-50000., -10000.,      0.],\n",
       "         [-50000., -10000.,    100.]],\n",
       "\n",
       "        [[-50000.,  10000.,      0.],\n",
       "         [-50000.,  10000.,    100.]]],\n",
       "\n",
       "\n",
       "       [[[-49990., -10000.,      0.],\n",
       "         [-49990., -10000.,    100.]],\n",
       "\n",
       "        [[-49990.,  10000.,      0.],\n",
       "         [-49990.,  10000.,    100.]]],\n",
       "\n",
       "\n",
       "       [[[-49980., -10000.,      0.],\n",
       "         [-49980., -10000.,    100.]],\n",
       "\n",
       "        [[-49980.,  10000.,      0.],\n",
       "         [-49980.,  10000.,    100.]]],\n",
       "\n",
       "\n",
       "       ...,\n",
       "\n",
       "\n",
       "       [[[ 49980., -10000.,      0.],\n",
       "         [ 49980., -10000.,    100.]],\n",
       "\n",
       "        [[ 49980.,  10000.,      0.],\n",
       "         [ 49980.,  10000.,    100.]]],\n",
       "\n",
       "\n",
       "       [[[ 49990., -10000.,      0.],\n",
       "         [ 49990., -10000.,    100.]],\n",
       "\n",
       "        [[ 49990.,  10000.,      0.],\n",
       "         [ 49990.,  10000.,    100.]]],\n",
       "\n",
       "\n",
       "       [[[ 50000., -10000.,      0.],\n",
       "         [ 50000., -10000.,    100.]],\n",
       "\n",
       "        [[ 50000.,  10000.,      0.],\n",
       "         [ 50000.,  10000.,    100.]]]])"
      ]
     },
     "execution_count": 65,
     "metadata": {},
     "output_type": "execute_result"
    }
   ],
   "source": [
    "#mesh\n",
    "air_mesh = openmc.RegularMesh(mesh_id=1, name=\"air_mesh\")\n",
    "air_mesh.dimension = [10000,1,1]\n",
    "air_mesh.lower_left = [-50000,-10000, 0]\n",
    "\n",
    "air_mesh.upper_right = [50000,10000, 100]\n",
    "mesh_filter = openmc.MeshFilter(air_mesh)\n",
    "air_mesh.vertices"
   ]
  },
  {
   "cell_type": "code",
   "execution_count": 58,
   "id": "1c8406fe-32a0-4a57-8301-99d99ef2b45a",
   "metadata": {},
   "outputs": [],
   "source": [
    "#tally\n",
    "def create_tally():\n",
    "    tallies = openmc.Tallies()\n",
    "    shine_tally = openmc.Tally(name='shine_tally')\n",
    "    neutron_filter = openmc.ParticleFilter(['neutron'])\n",
    "    shine_tally.scores  = ['flux']\n",
    "    shine_tally.filters = [mesh_filter, neutron_filter]\n",
    "    tallies.append(shine_tally)\n",
    "    tallies.export_to_xml()\n",
    "    return tallies"
   ]
  },
  {
   "cell_type": "code",
   "execution_count": 59,
   "id": "928d203c-0346-47c3-b50c-cd33dbd9d0ee",
   "metadata": {},
   "outputs": [
    {
     "name": "stdout",
     "output_type": "stream",
     "text": [
      "                                %%%%%%%%%%%%%%%\n",
      "                           %%%%%%%%%%%%%%%%%%%%%%%%\n",
      "                        %%%%%%%%%%%%%%%%%%%%%%%%%%%%%%\n",
      "                      %%%%%%%%%%%%%%%%%%%%%%%%%%%%%%%%%%\n",
      "                    %%%%%%%%%%%%%%%%%%%%%%%%%%%%%%%%%%%%%%\n",
      "                   %%%%%%%%%%%%%%%%%%%%%%%%%%%%%%%%%%%%%%%%\n",
      "                                    %%%%%%%%%%%%%%%%%%%%%%%%\n",
      "                                     %%%%%%%%%%%%%%%%%%%%%%%%\n",
      "                 ###############      %%%%%%%%%%%%%%%%%%%%%%%%\n",
      "                ##################     %%%%%%%%%%%%%%%%%%%%%%%\n",
      "                ###################     %%%%%%%%%%%%%%%%%%%%%%%\n",
      "                ####################     %%%%%%%%%%%%%%%%%%%%%%\n",
      "                #####################     %%%%%%%%%%%%%%%%%%%%%\n",
      "                ######################     %%%%%%%%%%%%%%%%%%%%\n",
      "                #######################     %%%%%%%%%%%%%%%%%%\n",
      "                 #######################     %%%%%%%%%%%%%%%%%\n",
      "                 ######################     %%%%%%%%%%%%%%%%%\n",
      "                  ####################     %%%%%%%%%%%%%%%%%\n",
      "                    #################     %%%%%%%%%%%%%%%%%\n",
      "                     ###############     %%%%%%%%%%%%%%%%\n",
      "                       ############     %%%%%%%%%%%%%%%\n",
      "                          ########     %%%%%%%%%%%%%%\n",
      "                                      %%%%%%%%%%%\n",
      "\n",
      "                 | The OpenMC Monte Carlo Code\n",
      "       Copyright | 2011-2022 MIT, UChicago Argonne LLC, and contributors\n",
      "         License | https://docs.openmc.org/en/latest/license.html\n",
      "         Version | 0.13.1\n",
      "        Git SHA1 | 33bc948f4b855c037975f16d16091fe4ecd12de3\n",
      "       Date/Time | 2022-10-26 15:35:44\n",
      "   MPI Processes | 1\n",
      "  OpenMP Threads | 8\n",
      "\n",
      " Reading settings XML file...\n",
      " Reading cross sections XML file...\n",
      " Reading materials XML file...\n",
      " Reading geometry XML file...\n",
      " Reading O16 from /root/nndc_hdf5/O16.h5\n",
      " Reading O17 from /root/nndc_hdf5/O17.h5\n",
      " Reading N14 from /root/nndc_hdf5/N14.h5\n",
      " Reading N15 from /root/nndc_hdf5/N15.h5\n",
      " Reading Ar36 from /root/nndc_hdf5/Ar36.h5\n",
      " WARNING: Negative value(s) found on probability table for nuclide Ar36 at 294K\n",
      " Reading Ar38 from /root/nndc_hdf5/Ar38.h5\n",
      " Reading Ar40 from /root/nndc_hdf5/Ar40.h5\n",
      " Reading C0 from /root/nndc_hdf5/C0.h5\n",
      " Reading H1 from /root/nndc_hdf5/H1.h5\n",
      " Reading H2 from /root/nndc_hdf5/H2.h5\n",
      " Reading Si28 from /root/nndc_hdf5/Si28.h5\n",
      " Reading Si29 from /root/nndc_hdf5/Si29.h5\n",
      " Reading Si30 from /root/nndc_hdf5/Si30.h5\n",
      " Reading Ca40 from /root/nndc_hdf5/Ca40.h5\n",
      " Reading Ca42 from /root/nndc_hdf5/Ca42.h5\n",
      " Reading Ca43 from /root/nndc_hdf5/Ca43.h5\n",
      " Reading Ca44 from /root/nndc_hdf5/Ca44.h5\n",
      " Reading Ca46 from /root/nndc_hdf5/Ca46.h5\n",
      " Reading Ca48 from /root/nndc_hdf5/Ca48.h5\n",
      " Reading Mg24 from /root/nndc_hdf5/Mg24.h5\n",
      " Reading Mg25 from /root/nndc_hdf5/Mg25.h5\n",
      " Reading Mg26 from /root/nndc_hdf5/Mg26.h5\n",
      " Reading Al27 from /root/nndc_hdf5/Al27.h5\n",
      " Reading Fe54 from /root/nndc_hdf5/Fe54.h5\n",
      " Reading Fe56 from /root/nndc_hdf5/Fe56.h5\n",
      " Reading Fe57 from /root/nndc_hdf5/Fe57.h5\n",
      " Reading Fe58 from /root/nndc_hdf5/Fe58.h5\n",
      " Reading P31 from /root/nndc_hdf5/P31.h5\n",
      " Minimum neutron data temperature: 294 K\n",
      " Maximum neutron data temperature: 294 K\n",
      " Reading tallies XML file...\n",
      " Preparing distributed cell instances...\n",
      " Reading plot XML file...\n",
      " Writing summary.h5 file...\n",
      " Maximum neutron transport energy: 20000000 eV for O17\n",
      "\n",
      " ===============>     FIXED SOURCE TRANSPORT SIMULATION     <===============\n",
      "\n",
      " Simulating batch 1\n",
      " Simulating batch 2\n",
      " Simulating batch 3\n",
      " Simulating batch 4\n",
      " Simulating batch 5\n",
      " Creating state point statepoint.5.h5...\n",
      "\n",
      " =======================>     TIMING STATISTICS     <=======================\n",
      "\n",
      " Total time for initialization     = 2.3102e+00 seconds\n",
      "   Reading cross sections          = 2.2915e+00 seconds\n",
      " Total time in simulation          = 1.7862e+02 seconds\n",
      "   Time in transport only          = 1.7860e+02 seconds\n",
      "   Time in active batches          = 1.7862e+02 seconds\n",
      "   Time accumulating tallies       = 7.2795e-03 seconds\n",
      "   Time writing statepoints        = 4.8359e-03 seconds\n",
      " Total time for finalization       = 1.8047e-02 seconds\n",
      " Total time elapsed                = 1.8095e+02 seconds\n",
      " Calculation Rate (active)         = 279930 particles/second\n",
      "\n",
      " ============================>     RESULTS     <============================\n",
      "\n",
      " Leakage Fraction            = 0.70146 +/- 0.00002\n",
      "\n"
     ]
    }
   ],
   "source": [
    "settings = sim_sett()\n",
    "sim_tallies = create_tally()\n",
    "model = openmc.model.Model(geom, mats, settings, sim_tallies)\n",
    "!rm *.h5\n",
    "results_filename = model.run()\n",
    "    \n",
    "results = openmc.StatePoint(results_filename)\n",
    "flux_tally = results.get_tally(name=\"shine_tally\")\n",
    "df = flux_tally.get_pandas_dataframe()\n",
    "results.close()"
   ]
  },
  {
   "cell_type": "code",
   "execution_count": 66,
   "id": "ff5b065c-46a4-4940-a645-f11c43367fb2",
   "metadata": {},
   "outputs": [
    {
     "data": {
      "text/plain": [
       "array([-50000., -49990., -49980., ...,  49980.,  49990.,  50000.])"
      ]
     },
     "execution_count": 66,
     "metadata": {},
     "output_type": "execute_result"
    }
   ],
   "source": [
    "mesh_vol = 0.1*20\n",
    "distance_x  = air_mesh.vertices[:,0,0,0]\n",
    "distance_x"
   ]
  },
  {
   "cell_type": "code",
   "execution_count": 69,
   "id": "bf5b1386-d01a-44ec-8e27-cb2da0002e05",
   "metadata": {},
   "outputs": [
    {
     "data": {
      "image/png": "[encoded data removed]",
      "text/plain": [
       "<Figure size 640x480 with 1 Axes>"
      ]
     },
     "metadata": {},
     "output_type": "display_data"
    },
    {
     "data": {
      "text/plain": [
       "<Figure size 640x480 with 0 Axes>"
      ]
     },
     "metadata": {},
     "output_type": "display_data"
    }
   ],
   "source": [
    "\n",
    "flux = df[df['score'] == 'flux']\n",
    "flux_mean = flux[\"mean\"] / mesh_vol\n",
    "flux_std = flux[\"std. dev.\"] / mesh_vol\n",
    "\n",
    "plt.rc('axes', prop_cycle=(cycler('color', ['r', 'g', 'b', 'y', 'cyan', 'black', 'purple','m','olive', 'pink', 'lime', 'navy', 'turquoise' ]))) \n",
    "plt.errorbar(distance_x[:-1]/100, flux_mean, flux_std)\n",
    "plt.xlabel(\"Distance in x-direction from Source (m)\")\n",
    "plt.ylabel(\"Flux (p/sp per cm$^2$)\")\n",
    "plt.axvline(x=0, ls='--', color='black')\n",
    "plt.xlim(0, 500)\n",
    "#plt.xscale('log')\n",
    "#plt.yscale('log')\n",
    "plt.title(\"Flux of skyshine neutrons as a function of distance for change in height\")\n",
    "   \n",
    "plt.show()\n",
    "plt.savefig(\"flux_dist.png\")"
   ]
  },
  {
   "cell_type": "code",
   "execution_count": 62,
   "id": "0512d9ca-e25e-499a-9cef-fc630753dfe6",
   "metadata": {},
   "outputs": [
    {
     "ename": "NameError",
     "evalue": "name 'max_stds' is not defined",
     "output_type": "error",
     "traceback": [
      "\u001b[0;31m---------------------------------------------------------------------------\u001b[0m",
      "\u001b[0;31mNameError\u001b[0m                                 Traceback (most recent call last)",
      "Cell \u001b[0;32mIn [62], line 1\u001b[0m\n\u001b[0;32m----> 1\u001b[0m \u001b[43mmax_stds\u001b[49m\n",
      "\u001b[0;31mNameError\u001b[0m: name 'max_stds' is not defined"
     ]
    }
   ],
   "source": [
    "max_stds"
   ]
  },
  {
   "cell_type": "code",
   "execution_count": 70,
   "id": "8c9826f5-d45e-4113-81cc-766796fa7ede",
   "metadata": {},
   "outputs": [
    {
     "ename": "NameError",
     "evalue": "name 'source_height' is not defined",
     "output_type": "error",
     "traceback": [
      "\u001b[0;31m---------------------------------------------------------------------------\u001b[0m",
      "\u001b[0;31mNameError\u001b[0m                                 Traceback (most recent call last)",
      "Cell \u001b[0;32mIn [70], line 1\u001b[0m\n\u001b[0;32m----> 1\u001b[0m plt\u001b[38;5;241m.\u001b[39merrorbar(\u001b[43msource_height\u001b[49m\u001b[38;5;241m/\u001b[39m\u001b[38;5;241m100\u001b[39m, max_means, yerr\u001b[38;5;241m=\u001b[39mmax_stds, color\u001b[38;5;241m=\u001b[39m\u001b[38;5;124m'\u001b[39m\u001b[38;5;124mb\u001b[39m\u001b[38;5;124m'\u001b[39m, ls\u001b[38;5;241m=\u001b[39m\u001b[38;5;28;01mNone\u001b[39;00m, marker\u001b[38;5;241m=\u001b[39m\u001b[38;5;124m'\u001b[39m\u001b[38;5;124mx\u001b[39m\u001b[38;5;124m'\u001b[39m)\n\u001b[1;32m      2\u001b[0m plt\u001b[38;5;241m.\u001b[39mxlabel(\u001b[38;5;124m\"\u001b[39m\u001b[38;5;124mHeight (m)\u001b[39m\u001b[38;5;124m\"\u001b[39m)\n\u001b[1;32m      3\u001b[0m plt\u001b[38;5;241m.\u001b[39mylabel(\u001b[38;5;124m\"\u001b[39m\u001b[38;5;124mFlux p/sp per cm$^2$\u001b[39m\u001b[38;5;124m\"\u001b[39m)\n",
      "\u001b[0;31mNameError\u001b[0m: name 'source_height' is not defined"
     ]
    }
   ],
   "source": [
    "plt.errorbar(source_height/100, max_means, yerr=max_stds, color='b', ls=None, marker='x')\n",
    "plt.xlabel(\"Height (m)\")\n",
    "plt.ylabel(\"Flux p/sp per cm$^2$\")\n",
    "plt.title(\"Flux as a function of change in height of source\")\n",
    "#plt.ylim(0.0001, 0.5)\n",
    "plt.xscale('log')\n",
    "plt.yscale('log')\n",
    "\n",
    "source_height"
   ]
  },
  {
   "cell_type": "code",
   "execution_count": null,
   "id": "901df1b2-c017-456b-807c-e80afc0fd7e1",
   "metadata": {},
   "outputs": [],
   "source": [
    "flux_std/flux_mean"
   ]
  },
  {
   "cell_type": "code",
   "execution_count": null,
   "id": "01468f91-858d-41d7-924e-e71f225f462f",
   "metadata": {},
   "outputs": [],
   "source": [
    "plt.plot(distance_x[:-1]/100, (flux_std/flux_mean)*100, ls='--', marker='x')"
   ]
  },
  {
   "cell_type": "code",
   "execution_count": null,
   "id": "6d5676e9-5814-472e-aa8c-000a63a873a6",
   "metadata": {},
   "outputs": [],
   "source": []
  }
 ],
 "metadata": {
  "kernelspec": {
   "display_name": "Python 3 (ipykernel)",
   "language": "python",
   "name": "python3"
  },
  "language_info": {
   "codemirror_mode": {
    "name": "ipython",
    "version": 3
   },
   "file_extension": ".py",
   "mimetype": "text/x-python",
   "name": "python",
   "nbconvert_exporter": "python",
   "pygments_lexer": "ipython3",
   "version": "3.9.2"
  }
 },
 "nbformat": 4,
 "nbformat_minor": 5
}
